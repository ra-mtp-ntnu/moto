{
 "cells": [
  {
   "cell_type": "code",
   "execution_count": 1,
   "metadata": {},
   "outputs": [],
   "source": [
    "import numpy as np\n",
    "import meshcat\n",
    "import meshcat.geometry as g\n",
    "import meshcat.transformations as tf"
   ]
  },
  {
   "cell_type": "code",
   "execution_count": 64,
   "metadata": {},
   "outputs": [],
   "source": [
    "YASKAWA_BLUE = g.MeshLambertMaterial(0x2126BF)\n",
    "BLACK = g.MeshLambertMaterial(0x000000)"
   ]
  },
  {
   "cell_type": "code",
   "execution_count": 65,
   "metadata": {},
   "outputs": [
    {
     "name": "stdout",
     "output_type": "stream",
     "text": [
      "You can open the visualizer by visiting the following URL:\n",
      "http://127.0.0.1:7004/static/\n"
     ]
    }
   ],
   "source": [
    "vis = meshcat.Visualizer()"
   ]
  },
  {
   "cell_type": "code",
   "execution_count": 75,
   "metadata": {},
   "outputs": [
    {
     "data": {
      "text/plain": [
       "<Visualizer using: <meshcat.visualizer.ViewerWindow object at 0x7fe94a4538b0> at path: <meshcat.path.Path object at 0x7fe98869c3d0>>"
      ]
     },
     "execution_count": 75,
     "metadata": {},
     "output_type": "execute_result"
    }
   ],
   "source": [
    "vis.open()"
   ]
  },
  {
   "cell_type": "code",
   "execution_count": 70,
   "metadata": {},
   "outputs": [],
   "source": [
    "base_link_geom = g.StlMeshGeometry.from_file(\"/home/lars/devel/motoman/motoman_gp25_support/meshes/visual/base_link.stl\")\n",
    "link_1_s_geom = g.StlMeshGeometry.from_file(\"/home/lars/devel/motoman/motoman_gp25_support/meshes/visual/link_1_s.stl\")\n",
    "link_2_l_geom = g.StlMeshGeometry.from_file(\"/home/lars/devel/motoman/motoman_gp25_support/meshes/visual/link_2_l.stl\")\n",
    "link_3_u_geom = g.StlMeshGeometry.from_file(\"/home/lars/devel/motoman/motoman_gp25_support/meshes/visual/link_3_u.stl\")\n",
    "link_4_r_geom = g.StlMeshGeometry.from_file(\"/home/lars/devel/motoman/motoman_gp25_support/meshes/visual/link_4_r.stl\")\n",
    "link_5_b_geom = g.StlMeshGeometry.from_file(\"/home/lars/devel/motoman/motoman_gp25_support/meshes/visual/link_5_b.stl\")\n",
    "link_6_t_geom = g.StlMeshGeometry.from_file(\"/home/lars/devel/motoman/motoman_gp25_support/meshes/visual/link_6_t.stl\")\n"
   ]
  },
  {
   "cell_type": "code",
   "execution_count": 71,
   "metadata": {},
   "outputs": [],
   "source": [
    "robot.delete()"
   ]
  },
  {
   "cell_type": "code",
   "execution_count": 72,
   "metadata": {},
   "outputs": [],
   "source": [
    "robot = vis[\"robot\"]\n",
    "base_link = robot[\"base_link\"]\n",
    "\n",
    "joint_1_s = base_link[\"joint_1_s\"]\n",
    "link_1_s = joint_1_s[\"link_1_s\"]\n",
    "\n",
    "joint_2_l = link_1_s[\"joint_2_l\"]\n",
    "link_2_l = joint_2_l[\"link_2_l\"]\n",
    "\n",
    "joint_3_u = link_2_l[\"joint_3_u\"]\n",
    "link_3_u = joint_3_u[\"link_3_u\"]\n",
    "\n",
    "joint_4_r = link_3_u[\"joint_4_r\"]\n",
    "link_4_r = joint_4_r[\"link_4_r\"]\n",
    "\n",
    "joint_5_b = link_4_r[\"joint_5_b\"]\n",
    "link_5_b = joint_5_b[\"link_5_b\"]\n",
    "\n",
    "joint_6_t = link_5_b[\"joint_6_t\"]\n",
    "link_6_t = joint_6_t[\"link_6_t\"]\n"
   ]
  },
  {
   "cell_type": "code",
   "execution_count": 73,
   "metadata": {},
   "outputs": [],
   "source": [
    "base_link.set_object(base_link_geom, BLACK)\n",
    "link_1_s.set_object(link_1_s_geom, YASKAWA_BLUE)\n",
    "link_2_l.set_object(link_2_l_geom, YASKAWA_BLUE)\n",
    "link_3_u.set_object(link_3_u_geom, YASKAWA_BLUE)\n",
    "link_4_r.set_object(link_4_r_geom, YASKAWA_BLUE)\n",
    "link_5_b.set_object(link_5_b_geom, YASKAWA_BLUE)\n",
    "link_6_t.set_object(link_6_t_geom, YASKAWA_BLUE)"
   ]
  },
  {
   "cell_type": "code",
   "execution_count": 74,
   "metadata": {},
   "outputs": [],
   "source": [
    "joint_1_s.set_transform(\n",
    "    tf.translation_matrix([0.0, 0.0, 0.505]) @ tf.rotation_matrix(0.5, [0.0, 0.0, 1.0])\n",
    ")\n",
    "joint_2_l.set_transform(tf.translation_matrix([0.150, 0.0, 0.0]))\n",
    "joint_3_u.set_transform(tf.translation_matrix([0.0, 0.0, 0.760]))\n",
    "joint_4_r.set_transform(tf.translation_matrix([0.0, 0.0, 0.200]))\n",
    "joint_5_b.set_transform(tf.translation_matrix([0.795, 0.0, 0.0]))\n",
    "joint_6_t.set_transform(tf.translation_matrix([0.0, 0.0, 0.0]))\n"
   ]
  },
  {
   "cell_type": "code",
   "execution_count": 13,
   "metadata": {},
   "outputs": [
    {
     "data": {
      "text/plain": [
       "array([[ 0.87758256, -0.47942554,  0.        ,  0.        ],\n",
       "       [ 0.47942554,  0.87758256,  0.        ,  0.        ],\n",
       "       [ 0.        ,  0.        ,  1.        ,  0.        ],\n",
       "       [ 0.        ,  0.        ,  0.        ,  1.        ]])"
      ]
     },
     "execution_count": 13,
     "metadata": {},
     "output_type": "execute_result"
    }
   ],
   "source": [
    "tf.rotation_matrix(0.5, [0.0,0.0,1.0])"
   ]
  },
  {
   "cell_type": "code",
   "execution_count": null,
   "metadata": {},
   "outputs": [],
   "source": []
  },
  {
   "cell_type": "code",
   "execution_count": 61,
   "metadata": {},
   "outputs": [
    {
     "data": {
      "text/plain": [
       "array([[ 0.54030231, -0.84147098,  0.        ,  0.        ],\n",
       "       [ 0.84147098,  0.54030231,  0.        ,  0.        ],\n",
       "       [ 0.        ,  0.        ,  1.        ,  0.505     ],\n",
       "       [ 0.        ,  0.        ,  0.        ,  1.        ]])"
      ]
     },
     "execution_count": 61,
     "metadata": {},
     "output_type": "execute_result"
    }
   ],
   "source": [
    "tf.rotation_matrix(1.0, [0.0,0.0,1.0]).dot(tf.translation_matrix([0.0,0.0,0.505]))"
   ]
  },
  {
   "cell_type": "code",
   "execution_count": 62,
   "metadata": {},
   "outputs": [
    {
     "data": {
      "image/png": "[encoded data removed]",
      "text/plain": [
       "<PIL.PngImagePlugin.PngImageFile image mode=RGBA size=1445x500>"
      ]
     },
     "execution_count": 62,
     "metadata": {},
     "output_type": "execute_result"
    }
   ],
   "source": [
    "joint_1_s.set_property()"
   ]
  },
  {
   "cell_type": "code",
   "execution_count": null,
   "metadata": {},
   "outputs": [],
   "source": []
  }
 ],
 "metadata": {
  "kernelspec": {
   "display_name": "Python 3.10.4 ('.venv': venv)",
   "language": "python",
   "name": "python3"
  },
  "language_info": {
   "codemirror_mode": {
    "name": "ipython",
    "version": 3
   },
   "file_extension": ".py",
   "mimetype": "text/x-python",
   "name": "python",
   "nbconvert_exporter": "python",
   "pygments_lexer": "ipython3",
   "version": "3.10.4"
  },
  "orig_nbformat": 4,
  "vscode": {
   "interpreter": {
    "hash": "5e967f8c8968dfdbeefc91f15bca156262cac3d45f6582b53fe3a55d5d2a147a"
   }
  }
 },
 "nbformat": 4,
 "nbformat_minor": 2
}
